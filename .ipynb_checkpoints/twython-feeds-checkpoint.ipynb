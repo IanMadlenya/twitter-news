{
 "cells": [
  {
   "cell_type": "code",
   "execution_count": 1,
   "metadata": {
    "collapsed": true
   },
   "outputs": [],
   "source": [
    "from twython import Twython\n",
    "import pandas as pd\n",
    "import unicodecsv as csv\n",
    "#import json"
   ]
  },
  {
   "cell_type": "code",
   "execution_count": 2,
   "metadata": {
    "collapsed": true
   },
   "outputs": [],
   "source": [
    "CONSUMER_KEY = 'HHt41ypLnYY0WdV9Qpnze8Akm'\n",
    "CONSUMER_SECRET = 'tDVYVL7mZe9fXHlSKRhKcDBA4bC4q3X9d7cUx8D888B8K3T3zt'\n",
    "ACCESS_KEY = '3314682258-set94GPGL7ClnBJTr7as1HwhfAhwVxDWkOYC86Z'\n",
    "ACCESS_SECRET = 'NrNuHxjtg8HRcpO1aVSZ8YI0B7QkIYu65mvzhJuYF28hT'\n",
    "twitter = Twython(CONSUMER_KEY,CONSUMER_SECRET,ACCESS_KEY,ACCESS_SECRET)"
   ]
  },
  {
   "cell_type": "markdown",
   "metadata": {
    "collapsed": true
   },
   "source": [
    "### getting tweets"
   ]
  },
  {
   "cell_type": "code",
   "execution_count": 261,
   "metadata": {
    "collapsed": false
   },
   "outputs": [],
   "source": [
    "handles_list = [\"nytimes\", \"TheSun\", \"thetimes\",\n",
    "                 \"AP\", \"CNN\", \"BBCNews\", \"CNET\", \"msnuk\",\n",
    "                \"Telegraph\", \"USATODAY\", \"WSJ\", \"washingtonpost\", \"BostonGlobe\", \"newscomauHQ\",\n",
    "                \"SkyNews\", \"SFGate\", \"AJEnglish\", \"Independent\", \"guardian\", \"latimes\", \n",
    "                \"ReutersAgency\", \"ABC\", \"Bloomberg\", \"BW\", \"TIME\"]"
   ]
  },
  {
   "cell_type": "code",
   "execution_count": null,
   "metadata": {
    "collapsed": true
   },
   "outputs": [],
   "source": [
    "tweets = twitter.get_user_timeline(screen_name = 'CNN', count=50, since)"
   ]
  },
  {
   "cell_type": "code",
   "execution_count": 43,
   "metadata": {
    "collapsed": false
   },
   "outputs": [],
   "source": [
    "#nytimes = twitter.get_user_timeline(screen_name=\"nytimes\")\n",
    "#thesun = twitter.get_user_timeline(screen_name=\"TheSun\")\n",
    "if not max_id:\n",
    "    tweet_list = twitter.get_user_timeline(screen_name = 'nytimes', count=10)\n",
    "else:\n",
    "    tweet_list = twitter.get_user_timeline(screen_name = 'nytimes', since_id = max_id)"
   ]
  },
  {
   "cell_type": "code",
   "execution_count": 7,
   "metadata": {
    "collapsed": false
   },
   "outputs": [],
   "source": [
    "# dealing with urls in a nested list comprehension (doesn't count the empty ones)\n",
    "#[url.get('url') for tweet in nytimes for url in tweet.get('entities').get('urls')]"
   ]
  },
  {
   "cell_type": "code",
   "execution_count": 36,
   "metadata": {
    "collapsed": false
   },
   "outputs": [],
   "source": [
    "urls = tweet_list[0].get('entities').get('urls')\n",
    "if urls:\n",
    "    url = urls[0].get('url')"
   ]
  },
  {
   "cell_type": "code",
   "execution_count": 37,
   "metadata": {
    "collapsed": false
   },
   "outputs": [
    {
     "data": {
      "text/plain": [
       "u'https://t.co/54prNWrvqR'"
      ]
     },
     "execution_count": 37,
     "metadata": {},
     "output_type": "execute_result"
    }
   ],
   "source": [
    "url"
   ]
  },
  {
   "cell_type": "code",
   "execution_count": null,
   "metadata": {
    "collapsed": true
   },
   "outputs": [],
   "source": [
    "# dealing with urls\n",
    "valid_urls = []\n",
    "url_entities = [tweet.get('entities').get('urls') for tweet in tweets]\n",
    "for entity in url_entities:\n",
    "            if entity:\n",
    "                valid_urls.append(entity[0].get('url'))\n",
    "            else:\n",
    "                valid_urls.append('')"
   ]
  },
  {
   "cell_type": "code",
   "execution_count": 44,
   "metadata": {
    "collapsed": false
   },
   "outputs": [],
   "source": [
    "tweets = []\n",
    "for num in range(0,len(tweet_list)):\n",
    "    current_tweet = []\n",
    "    current_tweet.append(tweet_list[num].get('id'))\n",
    "    current_tweet.append(tweet_list[num].get('created_at'))\n",
    "    current_tweet.append(tweet_list[num].get('user').get('name'))\n",
    "    current_tweet.append(tweet_list[num].get('text'))\n",
    "    # dealing with urls\n",
    "    urls = tweet_list[num].get('entities').get('urls')\n",
    "    if urls:\n",
    "        url = urls[0].get('url')\n",
    "    else:\n",
    "        url = ''\n",
    "    current_tweet.append(url)\n",
    "    current_tweet.append(tweet_list[num].get('retweet_count'))\n",
    "    tweets.append(current_tweet)"
   ]
  },
  {
   "cell_type": "code",
   "execution_count": 45,
   "metadata": {
    "collapsed": false
   },
   "outputs": [
    {
     "data": {
      "text/plain": [
       "[[785285212221702145,\n",
       "  u'Mon Oct 10 01:05:59 +0000 2016',\n",
       "  u'The New York Times',\n",
       "  u'RT @FrankBruni: Join a bunch of us from @nytopinion doing live debate chat/analysis. Should be some night. Yeesh. https://t.co/hVm7lq0MCY',\n",
       "  u'https://t.co/hVm7lq0MCY',\n",
       "  8],\n",
       " [785284647894847492,\n",
       "  u'Mon Oct 10 01:03:44 +0000 2016',\n",
       "  u'The New York Times',\n",
       "  u\"Donald Trump and Hillary Clinton's 2nd debate is about to begin. Join us for live analysis, video and fact checks. https://t.co/WTqJhBWvLM\",\n",
       "  u'https://t.co/WTqJhBWvLM',\n",
       "  64],\n",
       " [785283669527322624,\n",
       "  u'Mon Oct 10 00:59:51 +0000 2016',\n",
       "  u'The New York Times',\n",
       "  u\"RT @Yamiche: My latest: Some say anger over Trump video is this intense because he's offending white women &amp; not just minorities https://t.\\u2026\",\n",
       "  '',\n",
       "  70],\n",
       " [785282524717125634,\n",
       "  u'Mon Oct 10 00:55:18 +0000 2016',\n",
       "  u'The New York Times',\n",
       "  u'Trump invited 3 of Bill Clinton\\u2019s accusers to his debate with Hillary Clinton. Join us for analysis and fact checks. https://t.co/vJNNsgpAZQ',\n",
       "  u'https://t.co/vJNNsgpAZQ',\n",
       "  75],\n",
       " [785280483336880128,\n",
       "  u'Mon Oct 10 00:47:11 +0000 2016',\n",
       "  u'The New York Times',\n",
       "  u\"Ken Thompson, Brooklyn's first black district attorney, has died at 50, days after saying he had cancer\\u2026 https://t.co/Jb0YEKhd51\",\n",
       "  u'https://t.co/Jb0YEKhd51',\n",
       "  216],\n",
       " [785279898210471936,\n",
       "  u'Mon Oct 10 00:44:52 +0000 2016',\n",
       "  u'The New York Times',\n",
       "  u\"Join @nickconfessore @maggieNYT @adamnagourney &amp; @arappeport for live analysis of tonight's debate https://t.co/m0bSuYenVZ\",\n",
       "  u'https://t.co/m0bSuYenVZ',\n",
       "  20],\n",
       " [785279109500903424,\n",
       "  u'Mon Oct 10 00:41:44 +0000 2016',\n",
       "  u'The New York Times',\n",
       "  u'Sarah Jessica Parker, leaving Carrie Bradshaw behind with HBO\\u2019s \"Divorce\" https://t.co/K8PSNG91S1 https://t.co/KAe4kv7RRq',\n",
       "  u'https://t.co/K8PSNG91S1',\n",
       "  50],\n",
       " [785275258580398080,\n",
       "  u'Mon Oct 10 00:26:26 +0000 2016',\n",
       "  u'The New York Times',\n",
       "  u'Billy Bush has been suspended by NBC two days after a video showed him exchanging lewd remarks with Donald Trump https://t.co/SsLtghZT3g',\n",
       "  u'https://t.co/SsLtghZT3g',\n",
       "  360],\n",
       " [785274661345103872,\n",
       "  u'Mon Oct 10 00:24:03 +0000 2016',\n",
       "  u'The New York Times',\n",
       "  u'North Carolina residents had been hopeful that Hurricane Matthew would spare their state. Then the storm struck. https://t.co/FteTYSuSHA',\n",
       "  u'https://t.co/FteTYSuSHA',\n",
       "  80],\n",
       " [785272153088417792,\n",
       "  u'Mon Oct 10 00:14:05 +0000 2016',\n",
       "  u'The New York Times',\n",
       "  u\"Here's the growing list of Republicans who are breaking away from Donald Trump https://t.co/RzdrtHk21M\",\n",
       "  u'https://t.co/RzdrtHk21M',\n",
       "  437]]"
      ]
     },
     "execution_count": 45,
     "metadata": {},
     "output_type": "execute_result"
    }
   ],
   "source": [
    "tweets"
   ]
  },
  {
   "cell_type": "code",
   "execution_count": 124,
   "metadata": {
    "collapsed": false
   },
   "outputs": [],
   "source": [
    "tweets = [[tweet.get('id'), tweet.get('created_at'), tweet.get('user').get('name'), \n",
    "                    tweet.get('text'), tweet.get('retweet_count'), tweet.get('favorite_count'),\n",
    "                    ] for tweet in tweet_list]"
   ]
  },
  {
   "cell_type": "code",
   "execution_count": 125,
   "metadata": {
    "collapsed": false
   },
   "outputs": [
    {
     "data": {
      "text/plain": [
       "[784834640074969089,\n",
       " u'Sat Oct 08 19:15:34 +0000 2016',\n",
       " u'The Sun',\n",
       " u'Man arrested after \\u2018sexually assaulting TEN women in an hour\\u2019 in broad daylight in Manchester\\u2026 https://t.co/YsTuEOSAMT',\n",
       " 2,\n",
       " 1]"
      ]
     },
     "execution_count": 125,
     "metadata": {},
     "output_type": "execute_result"
    }
   ],
   "source": [
    "tweets[0]"
   ]
  },
  {
   "cell_type": "code",
   "execution_count": 42,
   "metadata": {
    "collapsed": false
   },
   "outputs": [],
   "source": [
    "max_id = 0"
   ]
  },
  {
   "cell_type": "code",
   "execution_count": 263,
   "metadata": {
    "collapsed": true
   },
   "outputs": [],
   "source": [
    "def get_tweets(handle,writer,max_id):\n",
    "    CONSUMER_KEY = 'HHt41ypLnYY0WdV9Qpnze8Akm'\n",
    "    CONSUMER_SECRET = 'tDVYVL7mZe9fXHlSKRhKcDBA4bC4q3X9d7cUx8D888B8K3T3zt'\n",
    "    ACCESS_KEY = '3314682258-set94GPGL7ClnBJTr7as1HwhfAhwVxDWkOYC86Z'\n",
    "    ACCESS_SECRET = 'NrNuHxjtg8HRcpO1aVSZ8YI0B7QkIYu65mvzhJuYF28hT'\n",
    "    twitter = Twython(CONSUMER_KEY,CONSUMER_SECRET,ACCESS_KEY,ACCESS_SECRET)\n",
    "    \n",
    "    if max_id == 0:\n",
    "        tweet_list = twitter.get_user_timeline(screen_name = handle, count=1)\n",
    "    else:\n",
    "        tweet_list = twitter.get_user_timeline(screen_name = handle, since_id = max_id)\n",
    "    \n",
    "    if tweet_list:\n",
    "        # dealing with urls\n",
    "        valid_urls = []\n",
    "        url_entities = [tweet.get('entities').get('urls') for tweet in tweets]\n",
    "        for entity in url_entities:\n",
    "            if entity:\n",
    "                valid_urls.append(entity[0].get('url'))\n",
    "            else:\n",
    "                valid_urls.append('')\n",
    "        tweets = [[tweet.get('id'), tweet.get('created_at'), tweet.get('user').get('name'), \n",
    "                   tweet.get('text').encode(\"utf-8\"), tweet.get('retweet_count')] \n",
    "                  for tweet in tweet_list]\n",
    "        max_id = max([tweet.get('id') for tweet in tweet_list])\n",
    "        writer.writerows(tweets)\n",
    "    return max_id"
   ]
  },
  {
   "cell_type": "code",
   "execution_count": 273,
   "metadata": {
    "collapsed": false
   },
   "outputs": [
    {
     "name": "stdout",
     "output_type": "stream",
     "text": [
      "\b. \b. \b. \b. \b. \b. \b. \b. \b. \b. \b. \b. \b. \b. \b. \b. \b. \b. \b. \b. \b. \b. \b. \b. \b. Done!\n"
     ]
    }
   ],
   "source": [
    "max_ids = []\n",
    "if __name__ == '__main__':\n",
    "    with open('all_tweets.csv', 'w') as f_all:\n",
    "        writer = csv.writer(f_all)\n",
    "        writer.writerow([\"id\",\"created_at\",\"user\",\"text\",\"retweet_count\"])\n",
    "        for handle in handles_list:\n",
    "            max_ids.append(get_tweets(handle, writer, max_id))\n",
    "            print \"\\b.\",\n",
    "        print 'Done!'\n",
    "max_id = max(max_ids)"
   ]
  },
  {
   "cell_type": "code",
   "execution_count": 226,
   "metadata": {
    "collapsed": false
   },
   "outputs": [
    {
     "data": {
      "text/plain": [
       "784877428904644608"
      ]
     },
     "execution_count": 226,
     "metadata": {},
     "output_type": "execute_result"
    }
   ],
   "source": [
    "max_id"
   ]
  },
  {
   "cell_type": "code",
   "execution_count": 274,
   "metadata": {
    "collapsed": true
   },
   "outputs": [],
   "source": [
    "df_tweets = pd.read_csv('all_tweets.csv')"
   ]
  },
  {
   "cell_type": "code",
   "execution_count": 275,
   "metadata": {
    "collapsed": false
   },
   "outputs": [
    {
     "data": {
      "text/plain": [
       "(30, 5)"
      ]
     },
     "execution_count": 275,
     "metadata": {},
     "output_type": "execute_result"
    }
   ],
   "source": [
    "df_tweets.shape"
   ]
  },
  {
   "cell_type": "code",
   "execution_count": 276,
   "metadata": {
    "collapsed": false
   },
   "outputs": [
    {
     "data": {
      "text/html": [
       "<div>\n",
       "<table border=\"1\" class=\"dataframe\">\n",
       "  <thead>\n",
       "    <tr style=\"text-align: right;\">\n",
       "      <th></th>\n",
       "      <th>id</th>\n",
       "      <th>created_at</th>\n",
       "      <th>user</th>\n",
       "      <th>text</th>\n",
       "      <th>retweet_count</th>\n",
       "    </tr>\n",
       "  </thead>\n",
       "  <tbody>\n",
       "    <tr>\n",
       "      <th>0</th>\n",
       "      <td>784900097758879744</td>\n",
       "      <td>Sat Oct 08 23:35:40 +0000 2016</td>\n",
       "      <td>The New York Times</td>\n",
       "      <td>\"If you snicker or say nothing while your fell...</td>\n",
       "      <td>226</td>\n",
       "    </tr>\n",
       "    <tr>\n",
       "      <th>1</th>\n",
       "      <td>784901694249398272</td>\n",
       "      <td>Sat Oct 08 23:42:01 +0000 2016</td>\n",
       "      <td>The Sun</td>\n",
       "      <td>Wow! Georgia May Foote shares steamy kiss with...</td>\n",
       "      <td>0</td>\n",
       "    </tr>\n",
       "    <tr>\n",
       "      <th>2</th>\n",
       "      <td>784899177268543488</td>\n",
       "      <td>Sat Oct 08 23:32:01 +0000 2016</td>\n",
       "      <td>The Sun</td>\n",
       "      <td>The 9 unanswered questions about the Kim Karda...</td>\n",
       "      <td>0</td>\n",
       "    </tr>\n",
       "    <tr>\n",
       "      <th>3</th>\n",
       "      <td>784898672832184320</td>\n",
       "      <td>Sat Oct 08 23:30:00 +0000 2016</td>\n",
       "      <td>The Sun</td>\n",
       "      <td>Make every day easier with life hacks that act...</td>\n",
       "      <td>1</td>\n",
       "    </tr>\n",
       "    <tr>\n",
       "      <th>4</th>\n",
       "      <td>784896661831184384</td>\n",
       "      <td>Sat Oct 08 23:22:01 +0000 2016</td>\n",
       "      <td>The Sun</td>\n",
       "      <td>.@Megan_Mckenna_ makes a big change after @P_W...</td>\n",
       "      <td>1</td>\n",
       "    </tr>\n",
       "    <tr>\n",
       "      <th>5</th>\n",
       "      <td>784901385385050112</td>\n",
       "      <td>Sat Oct 08 23:40:47 +0000 2016</td>\n",
       "      <td>The Associated Press</td>\n",
       "      <td>Latest: Palm Springs police say shooting of 3 ...</td>\n",
       "      <td>43</td>\n",
       "    </tr>\n",
       "    <tr>\n",
       "      <th>6</th>\n",
       "      <td>784899028962185216</td>\n",
       "      <td>Sat Oct 08 23:31:25 +0000 2016</td>\n",
       "      <td>The Associated Press</td>\n",
       "      <td>United Nations says heath officials in Yemen s...</td>\n",
       "      <td>87</td>\n",
       "    </tr>\n",
       "    <tr>\n",
       "      <th>7</th>\n",
       "      <td>784898939195650048</td>\n",
       "      <td>Sat Oct 08 23:31:04 +0000 2016</td>\n",
       "      <td>The Associated Press</td>\n",
       "      <td>Leaked campaign emails show 'moderate' side of...</td>\n",
       "      <td>46</td>\n",
       "    </tr>\n",
       "    <tr>\n",
       "      <th>8</th>\n",
       "      <td>784901396369960968</td>\n",
       "      <td>Sat Oct 08 23:40:50 +0000 2016</td>\n",
       "      <td>CNN</td>\n",
       "      <td>\"Don't tell me you're offended when I say 'p**...</td>\n",
       "      <td>102</td>\n",
       "    </tr>\n",
       "    <tr>\n",
       "      <th>9</th>\n",
       "      <td>784896328153300996</td>\n",
       "      <td>Sat Oct 08 23:20:41 +0000 2016</td>\n",
       "      <td>CNN</td>\n",
       "      <td>\"He’s a punk. He’s a dog. He’s a pig… I’d like...</td>\n",
       "      <td>726</td>\n",
       "    </tr>\n",
       "    <tr>\n",
       "      <th>10</th>\n",
       "      <td>784898730239619073</td>\n",
       "      <td>Sat Oct 08 23:30:14 +0000 2016</td>\n",
       "      <td>USA TODAY</td>\n",
       "      <td>A coalition of former elite gymnasts demand US...</td>\n",
       "      <td>27</td>\n",
       "    </tr>\n",
       "    <tr>\n",
       "      <th>11</th>\n",
       "      <td>784896907462205440</td>\n",
       "      <td>Sat Oct 08 23:23:00 +0000 2016</td>\n",
       "      <td>Wall Street Journal</td>\n",
       "      <td>Tesla seeks permission to double size of Calif...</td>\n",
       "      <td>40</td>\n",
       "    </tr>\n",
       "    <tr>\n",
       "      <th>12</th>\n",
       "      <td>784897673484759040</td>\n",
       "      <td>Sat Oct 08 23:26:02 +0000 2016</td>\n",
       "      <td>Washington Post</td>\n",
       "      <td>A six-year-old asks: \"What does it mean to gra...</td>\n",
       "      <td>187</td>\n",
       "    </tr>\n",
       "    <tr>\n",
       "      <th>13</th>\n",
       "      <td>784897412217368576</td>\n",
       "      <td>Sat Oct 08 23:25:00 +0000 2016</td>\n",
       "      <td>Washington Post</td>\n",
       "      <td>A tumultuous day in the life of a Republican S...</td>\n",
       "      <td>17</td>\n",
       "    </tr>\n",
       "    <tr>\n",
       "      <th>14</th>\n",
       "      <td>784896672233127936</td>\n",
       "      <td>Sat Oct 08 23:22:03 +0000 2016</td>\n",
       "      <td>Washington Post</td>\n",
       "      <td>A toxic whirlpool for the GOP: Scripted Trump ...</td>\n",
       "      <td>43</td>\n",
       "    </tr>\n",
       "    <tr>\n",
       "      <th>15</th>\n",
       "      <td>784897145249857541</td>\n",
       "      <td>Sat Oct 08 23:23:56 +0000 2016</td>\n",
       "      <td>The Boston Globe</td>\n",
       "      <td>\"Hey, Donald! Did you kiss your mother with th...</td>\n",
       "      <td>19</td>\n",
       "    </tr>\n",
       "    <tr>\n",
       "      <th>16</th>\n",
       "      <td>784901654755811328</td>\n",
       "      <td>Sat Oct 08 23:41:51 +0000 2016</td>\n",
       "      <td>news.com.au</td>\n",
       "      <td>Live: The 2016 Supercheap Auto Bathurst 1000 h...</td>\n",
       "      <td>0</td>\n",
       "    </tr>\n",
       "    <tr>\n",
       "      <th>17</th>\n",
       "      <td>784896511826157569</td>\n",
       "      <td>Sat Oct 08 23:21:25 +0000 2016</td>\n",
       "      <td>news.com.au</td>\n",
       "      <td>Wright on track for surfing crown https://t.co...</td>\n",
       "      <td>1</td>\n",
       "    </tr>\n",
       "    <tr>\n",
       "      <th>18</th>\n",
       "      <td>784899378976731137</td>\n",
       "      <td>Sat Oct 08 23:32:49 +0000 2016</td>\n",
       "      <td>SFGate</td>\n",
       "      <td>Sen. McCain drops support for Trump; will vote...</td>\n",
       "      <td>3</td>\n",
       "    </tr>\n",
       "    <tr>\n",
       "      <th>19</th>\n",
       "      <td>784899360140079104</td>\n",
       "      <td>Sat Oct 08 23:32:44 +0000 2016</td>\n",
       "      <td>SFGate</td>\n",
       "      <td>3 rescued from apartment fire in SF’s Sunset D...</td>\n",
       "      <td>0</td>\n",
       "    </tr>\n",
       "    <tr>\n",
       "      <th>20</th>\n",
       "      <td>784899929739190272</td>\n",
       "      <td>Sat Oct 08 23:35:00 +0000 2016</td>\n",
       "      <td>The Independent</td>\n",
       "      <td>The Syrian refugee hunting down Isis militants...</td>\n",
       "      <td>10</td>\n",
       "    </tr>\n",
       "    <tr>\n",
       "      <th>21</th>\n",
       "      <td>784901629640339456</td>\n",
       "      <td>Sat Oct 08 23:41:45 +0000 2016</td>\n",
       "      <td>The Guardian</td>\n",
       "      <td>Tourism, cheese and Nordic noir: how football ...</td>\n",
       "      <td>2</td>\n",
       "    </tr>\n",
       "    <tr>\n",
       "      <th>22</th>\n",
       "      <td>784901251083403264</td>\n",
       "      <td>Sat Oct 08 23:40:15 +0000 2016</td>\n",
       "      <td>The Guardian</td>\n",
       "      <td>Why the prissy reaction to Ferrante being unma...</td>\n",
       "      <td>0</td>\n",
       "    </tr>\n",
       "    <tr>\n",
       "      <th>23</th>\n",
       "      <td>784901250890473473</td>\n",
       "      <td>Sat Oct 08 23:40:15 +0000 2016</td>\n",
       "      <td>The Guardian</td>\n",
       "      <td>Africa must not become one big game park | Pat...</td>\n",
       "      <td>8</td>\n",
       "    </tr>\n",
       "    <tr>\n",
       "      <th>24</th>\n",
       "      <td>784901250861133824</td>\n",
       "      <td>Sat Oct 08 23:40:15 +0000 2016</td>\n",
       "      <td>The Guardian</td>\n",
       "      <td>Donald Trump apologises for sex boast tape htt...</td>\n",
       "      <td>7</td>\n",
       "    </tr>\n",
       "    <tr>\n",
       "      <th>25</th>\n",
       "      <td>784901745914839040</td>\n",
       "      <td>Sat Oct 08 23:42:13 +0000 2016</td>\n",
       "      <td>Los Angeles Times</td>\n",
       "      <td>Palm Springs police are saying a second office...</td>\n",
       "      <td>18</td>\n",
       "    </tr>\n",
       "    <tr>\n",
       "      <th>26</th>\n",
       "      <td>784901204971249664</td>\n",
       "      <td>Sat Oct 08 23:40:04 +0000 2016</td>\n",
       "      <td>Los Angeles Times</td>\n",
       "      <td>UFC 204: Live updates and coverage from Bispin...</td>\n",
       "      <td>2</td>\n",
       "    </tr>\n",
       "    <tr>\n",
       "      <th>27</th>\n",
       "      <td>784897437752258560</td>\n",
       "      <td>Sat Oct 08 23:25:06 +0000 2016</td>\n",
       "      <td>Los Angeles Times</td>\n",
       "      <td>Sarah Palin is still sticking with Trump despi...</td>\n",
       "      <td>35</td>\n",
       "    </tr>\n",
       "    <tr>\n",
       "      <th>28</th>\n",
       "      <td>784898863425617920</td>\n",
       "      <td>Sat Oct 08 23:30:46 +0000 2016</td>\n",
       "      <td>ABC News</td>\n",
       "      <td>Nancy O’Dell responds to lewd comments made ab...</td>\n",
       "      <td>48</td>\n",
       "    </tr>\n",
       "    <tr>\n",
       "      <th>29</th>\n",
       "      <td>784898698119680000</td>\n",
       "      <td>Sat Oct 08 23:30:07 +0000 2016</td>\n",
       "      <td>TIME</td>\n",
       "      <td>People who start to watch porn more likely to ...</td>\n",
       "      <td>29</td>\n",
       "    </tr>\n",
       "  </tbody>\n",
       "</table>\n",
       "</div>"
      ],
      "text/plain": [
       "                    id                      created_at                  user  \\\n",
       "0   784900097758879744  Sat Oct 08 23:35:40 +0000 2016    The New York Times   \n",
       "1   784901694249398272  Sat Oct 08 23:42:01 +0000 2016               The Sun   \n",
       "2   784899177268543488  Sat Oct 08 23:32:01 +0000 2016               The Sun   \n",
       "3   784898672832184320  Sat Oct 08 23:30:00 +0000 2016               The Sun   \n",
       "4   784896661831184384  Sat Oct 08 23:22:01 +0000 2016               The Sun   \n",
       "5   784901385385050112  Sat Oct 08 23:40:47 +0000 2016  The Associated Press   \n",
       "6   784899028962185216  Sat Oct 08 23:31:25 +0000 2016  The Associated Press   \n",
       "7   784898939195650048  Sat Oct 08 23:31:04 +0000 2016  The Associated Press   \n",
       "8   784901396369960968  Sat Oct 08 23:40:50 +0000 2016                   CNN   \n",
       "9   784896328153300996  Sat Oct 08 23:20:41 +0000 2016                   CNN   \n",
       "10  784898730239619073  Sat Oct 08 23:30:14 +0000 2016             USA TODAY   \n",
       "11  784896907462205440  Sat Oct 08 23:23:00 +0000 2016   Wall Street Journal   \n",
       "12  784897673484759040  Sat Oct 08 23:26:02 +0000 2016       Washington Post   \n",
       "13  784897412217368576  Sat Oct 08 23:25:00 +0000 2016       Washington Post   \n",
       "14  784896672233127936  Sat Oct 08 23:22:03 +0000 2016       Washington Post   \n",
       "15  784897145249857541  Sat Oct 08 23:23:56 +0000 2016      The Boston Globe   \n",
       "16  784901654755811328  Sat Oct 08 23:41:51 +0000 2016           news.com.au   \n",
       "17  784896511826157569  Sat Oct 08 23:21:25 +0000 2016           news.com.au   \n",
       "18  784899378976731137  Sat Oct 08 23:32:49 +0000 2016                SFGate   \n",
       "19  784899360140079104  Sat Oct 08 23:32:44 +0000 2016                SFGate   \n",
       "20  784899929739190272  Sat Oct 08 23:35:00 +0000 2016       The Independent   \n",
       "21  784901629640339456  Sat Oct 08 23:41:45 +0000 2016          The Guardian   \n",
       "22  784901251083403264  Sat Oct 08 23:40:15 +0000 2016          The Guardian   \n",
       "23  784901250890473473  Sat Oct 08 23:40:15 +0000 2016          The Guardian   \n",
       "24  784901250861133824  Sat Oct 08 23:40:15 +0000 2016          The Guardian   \n",
       "25  784901745914839040  Sat Oct 08 23:42:13 +0000 2016     Los Angeles Times   \n",
       "26  784901204971249664  Sat Oct 08 23:40:04 +0000 2016     Los Angeles Times   \n",
       "27  784897437752258560  Sat Oct 08 23:25:06 +0000 2016     Los Angeles Times   \n",
       "28  784898863425617920  Sat Oct 08 23:30:46 +0000 2016              ABC News   \n",
       "29  784898698119680000  Sat Oct 08 23:30:07 +0000 2016                  TIME   \n",
       "\n",
       "                                                 text  retweet_count  \n",
       "0   \"If you snicker or say nothing while your fell...            226  \n",
       "1   Wow! Georgia May Foote shares steamy kiss with...              0  \n",
       "2   The 9 unanswered questions about the Kim Karda...              0  \n",
       "3   Make every day easier with life hacks that act...              1  \n",
       "4   .@Megan_Mckenna_ makes a big change after @P_W...              1  \n",
       "5   Latest: Palm Springs police say shooting of 3 ...             43  \n",
       "6   United Nations says heath officials in Yemen s...             87  \n",
       "7   Leaked campaign emails show 'moderate' side of...             46  \n",
       "8   \"Don't tell me you're offended when I say 'p**...            102  \n",
       "9   \"He’s a punk. He’s a dog. He’s a pig… I’d like...            726  \n",
       "10  A coalition of former elite gymnasts demand US...             27  \n",
       "11  Tesla seeks permission to double size of Calif...             40  \n",
       "12  A six-year-old asks: \"What does it mean to gra...            187  \n",
       "13  A tumultuous day in the life of a Republican S...             17  \n",
       "14  A toxic whirlpool for the GOP: Scripted Trump ...             43  \n",
       "15  \"Hey, Donald! Did you kiss your mother with th...             19  \n",
       "16  Live: The 2016 Supercheap Auto Bathurst 1000 h...              0  \n",
       "17  Wright on track for surfing crown https://t.co...              1  \n",
       "18  Sen. McCain drops support for Trump; will vote...              3  \n",
       "19  3 rescued from apartment fire in SF’s Sunset D...              0  \n",
       "20  The Syrian refugee hunting down Isis militants...             10  \n",
       "21  Tourism, cheese and Nordic noir: how football ...              2  \n",
       "22  Why the prissy reaction to Ferrante being unma...              0  \n",
       "23  Africa must not become one big game park | Pat...              8  \n",
       "24  Donald Trump apologises for sex boast tape htt...              7  \n",
       "25  Palm Springs police are saying a second office...             18  \n",
       "26  UFC 204: Live updates and coverage from Bispin...              2  \n",
       "27  Sarah Palin is still sticking with Trump despi...             35  \n",
       "28  Nancy O’Dell responds to lewd comments made ab...             48  \n",
       "29  People who start to watch porn more likely to ...             29  "
      ]
     },
     "execution_count": 276,
     "metadata": {},
     "output_type": "execute_result"
    }
   ],
   "source": [
    "df_tweets"
   ]
  },
  {
   "cell_type": "code",
   "execution_count": 47,
   "metadata": {
    "collapsed": true
   },
   "outputs": [],
   "source": [
    "batch = 0\n",
    "numb = 5"
   ]
  },
  {
   "cell_type": "code",
   "execution_count": 48,
   "metadata": {
    "collapsed": false
   },
   "outputs": [
    {
     "name": "stdout",
     "output_type": "stream",
     "text": [
      "starting batch 0: fetching tweets for numb 5\n"
     ]
    }
   ],
   "source": [
    "print \"starting batch %d: fetching tweets for numb %d\" % (batch, numb)"
   ]
  },
  {
   "cell_type": "code",
   "execution_count": null,
   "metadata": {
    "collapsed": true
   },
   "outputs": [],
   "source": []
  }
 ],
 "metadata": {
  "kernelspec": {
   "display_name": "Python 2",
   "language": "python",
   "name": "python2"
  },
  "language_info": {
   "codemirror_mode": {
    "name": "ipython",
    "version": 2
   },
   "file_extension": ".py",
   "mimetype": "text/x-python",
   "name": "python",
   "nbconvert_exporter": "python",
   "pygments_lexer": "ipython2",
   "version": "2.7.12"
  }
 },
 "nbformat": 4,
 "nbformat_minor": 1
}
